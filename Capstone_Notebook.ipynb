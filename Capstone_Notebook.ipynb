{
 "cells": [
  {
   "cell_type": "markdown",
   "id": "02ad6d44-5ac1-4966-82ad-a70f5c4135cb",
   "metadata": {},
   "source": [
    "## Capstone Project Notebook"
   ]
  },
  {
   "cell_type": "markdown",
   "id": "65236351-7004-495a-ad44-57e01439905f",
   "metadata": {},
   "source": [
    "This Notebook will be used to complete the capstone project for the Data Science course"
   ]
  },
  {
   "cell_type": "code",
   "execution_count": 1,
   "id": "76ac83d7-58aa-430e-95ca-9c6733e89932",
   "metadata": {},
   "outputs": [],
   "source": [
    "import pandas as pd\n",
    "import numpy as np"
   ]
  },
  {
   "cell_type": "code",
   "execution_count": 2,
   "id": "983143d5-e9a4-4938-ad64-472c6bf4c1e3",
   "metadata": {},
   "outputs": [
    {
     "name": "stdout",
     "output_type": "stream",
     "text": [
      "Hello Capstone Project Course!\n"
     ]
    }
   ],
   "source": [
    "print(\"Hello Capstone Project Course!\")"
   ]
  },
  {
   "cell_type": "code",
   "execution_count": null,
   "id": "16323b8a-d6cc-4a23-a7a3-b9b27afe57ca",
   "metadata": {},
   "outputs": [],
   "source": []
  }
 ],
 "metadata": {
  "kernelspec": {
   "display_name": "Python 3",
   "language": "python",
   "name": "python3"
  },
  "language_info": {
   "codemirror_mode": {
    "name": "ipython",
    "version": 3
   },
   "file_extension": ".py",
   "mimetype": "text/x-python",
   "name": "python",
   "nbconvert_exporter": "python",
   "pygments_lexer": "ipython3",
   "version": "3.8.1"
  }
 },
 "nbformat": 4,
 "nbformat_minor": 5
}
